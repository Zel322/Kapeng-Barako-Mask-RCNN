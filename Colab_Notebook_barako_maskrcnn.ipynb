{
  "nbformat": 4,
  "nbformat_minor": 0,
  "metadata": {
    "accelerator": "GPU",
    "colab": {
      "name": "Colab_Notebook_barako_maskrcnn.ipynb",
      "provenance": [],
      "collapsed_sections": [],
      "toc_visible": true,
      "include_colab_link": true
    },
    "kernelspec": {
      "display_name": "Python 3",
      "name": "python3"
    }
  },
  "cells": [
    {
      "cell_type": "markdown",
      "metadata": {
        "id": "view-in-github",
        "colab_type": "text"
      },
      "source": [
        "<a href=\"https://colab.research.google.com/github/Zel322/Kapeng-Barako-Mask-RCNN/blob/main/Colab_Notebook_barako_maskrcnn.ipynb\" target=\"_parent\"><img src=\"https://colab.research.google.com/assets/colab-badge.svg\" alt=\"Open In Colab\"/></a>"
      ]
    },
    {
      "cell_type": "markdown",
      "metadata": {
        "id": "nGiIgx6PQR_i"
      },
      "source": [
        "#Mask R-CNN instance segmentation with Kapeng Barako dataset in Google Colab\n",
        "Jupyter notebook providing steps to train a **Matterport Mask R-CNN** model with custom dataset.\n",
        "\n",
        "It runs in [Google Colab](https://colab.research.google.com/) using [Matterport framework](https://github.com/matterport/Mask_RCNN) with TensorFlow backend.\n",
        "\n",
        "**Requirements are only dataset images and annotations file.**\n",
        "\n",
        "**Colab Runtime type: Python3, GPU enabled.**"
      ]
    },
    {
      "cell_type": "markdown",
      "metadata": {
        "id": "ETvqQcnNQEo3"
      },
      "source": [
        "#Install miniconda and python 3.6"
      ]
    },
    {
      "cell_type": "code",
      "metadata": {
        "id": "mlqV_O8bbnLi"
      },
      "source": [
        "%env PYTHONPATH=\n"
      ],
      "execution_count": null,
      "outputs": []
    },
    {
      "cell_type": "code",
      "metadata": {
        "id": "0Lmd_L6Ob4D1"
      },
      "source": [
        "%%bash\n",
        "MINICONDA_INSTALLER_SCRIPT=Miniconda3-4.5.4-Linux-x86_64.sh\n",
        "MINICONDA_PREFIX=/usr/local\n",
        "wget https://repo.continuum.io/miniconda/$MINICONDA_INSTALLER_SCRIPT\n",
        "chmod +x $MINICONDA_INSTALLER_SCRIPT\n",
        "./$MINICONDA_INSTALLER_SCRIPT -b -f -p $MINICONDA_PREFIX\n",
        "\n"
      ],
      "execution_count": null,
      "outputs": []
    },
    {
      "cell_type": "code",
      "metadata": {
        "id": "Adj4JFYtZ_2I"
      },
      "source": [
        "!python --version"
      ],
      "execution_count": null,
      "outputs": []
    },
    {
      "cell_type": "markdown",
      "metadata": {
        "id": "sTQ9U1f-Qd1r"
      },
      "source": [
        "#Clone Mask RCNN Repository"
      ]
    },
    {
      "cell_type": "code",
      "metadata": {
        "id": "dxb0O8vub5ks"
      },
      "source": [
        "%cd\n",
        "  \n",
        "!git clone --quiet https://github.com/matterport/Mask_RCNN.git"
      ],
      "execution_count": null,
      "outputs": []
    },
    {
      "cell_type": "markdown",
      "metadata": {
        "id": "yKrfC1pOQocj"
      },
      "source": [
        "#Install required packages\n"
      ]
    },
    {
      "cell_type": "code",
      "metadata": {
        "id": "WMAezg5wqHNj"
      },
      "source": [
        "#run when tensorflow is not found\n",
        "\n",
        "!pip install tensorflow-gpu==1.5\n",
        "!pip install keras==2.1.6"
      ],
      "execution_count": null,
      "outputs": []
    },
    {
      "cell_type": "code",
      "metadata": {
        "id": "SbYn1zd1b8K0"
      },
      "source": [
        "%cd ~/Mask_RCNN\n",
        "\n",
        "!pip install -q PyDrive\n",
        "!pip install --upgrade pip\n",
        "#!pip install -r requirements.txt\n",
        "!python setup.py install\n",
        "\n"
      ],
      "execution_count": null,
      "outputs": []
    },
    {
      "cell_type": "code",
      "metadata": {
        "id": "38UCuwa2Y5T_"
      },
      "source": [
        "!pip install numpy\n",
        "!pip install -U scikit-image==0.16.2\n",
        "!pip install opencv-python\n",
        "!pip install ipython\n",
        "!pip install ipykernel\n",
        "!pip install h5py==2.10.0\n",
        "#python --version"
      ],
      "execution_count": null,
      "outputs": []
    },
    {
      "cell_type": "code",
      "metadata": {
        "id": "wxr9DQQhtNqK"
      },
      "source": [
        "!pip install pandas\n",
        "!pip install seaborn\n",
        "!pip install sklearn"
      ],
      "execution_count": null,
      "outputs": []
    },
    {
      "cell_type": "markdown",
      "metadata": {
        "id": "rWagcrX3Q3N1"
      },
      "source": [
        "#Change CUDA Version from 10 to 9\n"
      ]
    },
    {
      "cell_type": "code",
      "metadata": {
        "id": "p_Nrk73OcOH9"
      },
      "source": [
        "!wget https://developer.nvidia.com/compute/cuda/9.0/Prod/local_installers/cuda-repo-ubuntu1604-9-0-local_9.0.176-1_amd64-deb\n",
        "!dpkg -i cuda-repo-ubuntu1604-9-0-local_9.0.176-1_amd64-deb\n",
        "!apt-key add /var/cuda-repo-9-0-local/7fa2af80.pub\n",
        "!apt-get update\n",
        "!apt-get install cuda=9.0.176-1"
      ],
      "execution_count": null,
      "outputs": []
    },
    {
      "cell_type": "code",
      "metadata": {
        "id": "4ZTDNsbpdBHA"
      },
      "source": [
        "!nvcc --version"
      ],
      "execution_count": null,
      "outputs": []
    },
    {
      "cell_type": "markdown",
      "metadata": {
        "id": "6zZg68_koGU7"
      },
      "source": [
        "#Download and extract dataset and other uploaded files \n",
        "Update fileId variable with Google Drive id of your image.zip dataset and upload.zip files\n",
        "\n"
      ]
    },
    {
      "cell_type": "code",
      "metadata": {
        "id": "V0p-GBez9qBr"
      },
      "source": [
        "%cd /root/Mask_RCNN"
      ],
      "execution_count": null,
      "outputs": []
    },
    {
      "cell_type": "code",
      "metadata": {
        "id": "sTDhylBN7ddg"
      },
      "source": [
        "methoimport os\n",
        "from zipfile import ZipFile\n",
        "from shutil import copy\n",
        "from pydrive.auth import GoogleAuth\n",
        "from pydrive.drive import GoogleDrive\n",
        "from google.colab import auth\n",
        "from oauth2client.client import GoogleCredentials\n",
        "\n",
        "auth.authenticate_user()\n",
        "gauth = GoogleAuth()\n",
        "gauth.credentials = GoogleCredentials.get_application_default()\n",
        "drive = GoogleDrive(gauth)"
      ],
      "execution_count": null,
      "outputs": []
    },
    {
      "cell_type": "code",
      "metadata": {
        "id": "A_8uwVt0c-V2"
      },
      "source": [
        "#fileId = '1FlT3MFK4VFwTcn575FlKpqs65dyH6E7Z'#dataset without overripe\n",
        "fileId = '1pfVNJoSP0Vpqwv5dxIQo2ibfd7Jv_Wmz'#dataset without overripe\n",
        "\n",
        "os.makedirs('dataset', exist_ok=True)\n",
        "os.chdir('dataset')\n",
        "\n",
        "fileName = fileId + '.zip'\n",
        "downloaded = drive.CreateFile({'id': fileId})\n",
        "downloaded.GetContentFile(fileName)\n",
        "ds = ZipFile(fileName)\n",
        "ds.extractall()\n",
        "os.remove(fileName)\n",
        "print('Extracted zip file ' + fileName)"
      ],
      "execution_count": null,
      "outputs": []
    },
    {
      "cell_type": "code",
      "metadata": {
        "id": "JvhID0EJ6f_5"
      },
      "source": [
        "%cd ~/Mask_RCNN"
      ],
      "execution_count": null,
      "outputs": []
    },
    {
      "cell_type": "code",
      "metadata": {
        "id": "E3QG3lIqAixA"
      },
      "source": [
        "fileId2 = '1G0A3I1VCN2CatZ9tmywn2XHDmjpaEDDr'#for_5.zip from institutional account\n",
        "\n",
        "os.makedirs('uploads', exist_ok=True)\n",
        "os.chdir('uploads')\n",
        "\n",
        "fileName2 = fileId2 + '.zip'\n",
        "downloaded = drive.CreateFile({'id': fileId2})\n",
        "downloaded.GetContentFile(fileName2)\n",
        "ds = ZipFile(fileName2)\n",
        "ds.extractall()\n",
        "os.remove(fileName2)\n",
        "print('Extracted zip file ' + fileName2)"
      ],
      "execution_count": null,
      "outputs": []
    },
    {
      "cell_type": "markdown",
      "metadata": {
        "id": "sDb11vDTRDoc"
      },
      "source": [
        "#Install cudnn 7.0.5\n",
        "\n",
        "the .deb file is uploaded to the drive"
      ]
    },
    {
      "cell_type": "code",
      "metadata": {
        "id": "vdSsIZU_f6Nx"
      },
      "source": [
        "!dpkg -i \"/root/Mask_RCNN/uploads/libcudnn7_7.0.5.15-1+cuda9.0_amd64.deb\""
      ],
      "execution_count": null,
      "outputs": []
    },
    {
      "cell_type": "markdown",
      "metadata": {
        "id": "4Hjjc40apLpd"
      },
      "source": [
        "#Edit settings file\n",
        "*  modified python file is uploaded to the drive\n",
        "*  set epochs number\n"
      ]
    },
    {
      "cell_type": "code",
      "metadata": {
        "id": "c4QEfQn-PUWf"
      },
      "source": [
        "%cd ~/Mask_RCNN/uploads\n",
        "\n",
        "!sed -n -e '/epochs/p' barako_v2.py\n",
        "!sed -n -e '/STEPS_PER_EPOCH/p' barako_v2.py\n",
        "!sed -n -e '/DETECTION_MIN_CONFIDENCE/p' barako_v2.py\n",
        "!sed -n -e '/calculate_map_at_every_X_epoch/p' barako_v2.py\n",
        "!sed -n -e '/target_mAP/p' barako_v2.py\n"
      ],
      "execution_count": null,
      "outputs": []
    },
    {
      "cell_type": "code",
      "metadata": {
        "id": "67c6X3U8xSVL"
      },
      "source": [
        "!sed -i -- 's/epochs=10/epochs=50/g' barako_v2.py\n",
        "!sed -i -- 's/STEPS_PER_EPOCH = 100/STEPS_PER_EPOCH = 175/g' barako_v2.py\n",
        "!sed -i -- 's/DETECTION_MIN_CONFIDENCE = 0.9/DETECTION_MIN_CONFIDENCE = 0.7/g' barako_v2.py\n",
        "!sed -i -- 's/calculate_map_at_every_X_epoch=10/calculate_map_at_every_X_epoch=35/g' barako_v2.py\n",
        "!sed -i -- 's/target_mAP=0.8/target_mAP=0.6/g' barako_v2.py"
      ],
      "execution_count": null,
      "outputs": []
    },
    {
      "cell_type": "markdown",
      "metadata": {
        "id": "AjmxrVOwq0rC"
      },
      "source": [
        "#Train model\n",
        "Pretrained weights options are COCO, ImageNet or a model trained before\n"
      ]
    },
    {
      "cell_type": "code",
      "metadata": {
        "id": "0eSeyA0tO-rT"
      },
      "source": [
        "%cd ~/Mask_RCNN/uploads\n",
        "\n",
        "!python barako_v2.py train --dataset=/root/Mask_RCNN/dataset/ --weights=coco #model.py modifications: set augment and augmentation to True"
      ],
      "execution_count": null,
      "outputs": []
    },
    {
      "cell_type": "code",
      "metadata": {
        "colab": {
          "base_uri": "https://localhost:8080/",
          "height": 50
        },
        "id": "vLXux_JAV3Vj",
        "outputId": "1f1d7cc7-e804-4612-8e85-03f6e4a47b9d"
      },
      "source": [
        "\n",
        "%cd ~/Mask_RCNN/uploads\n",
        "\n",
        "from google.colab import files\n",
        "#import modified_model as model\n",
        "files.download(\"/root/logs/barako20210321T0828/mask_rcnn_barako_0060.h5\")"
      ],
      "execution_count": null,
      "outputs": [
        {
          "output_type": "stream",
          "text": [
            "/root/Mask_RCNN\n"
          ],
          "name": "stdout"
        },
        {
          "output_type": "display_data",
          "data": {
            "application/javascript": [
              "\n",
              "    async function download(id, filename, size) {\n",
              "      if (!google.colab.kernel.accessAllowed) {\n",
              "        return;\n",
              "      }\n",
              "      const div = document.createElement('div');\n",
              "      const label = document.createElement('label');\n",
              "      label.textContent = `Downloading \"${filename}\": `;\n",
              "      div.appendChild(label);\n",
              "      const progress = document.createElement('progress');\n",
              "      progress.max = size;\n",
              "      div.appendChild(progress);\n",
              "      document.body.appendChild(div);\n",
              "\n",
              "      const buffers = [];\n",
              "      let downloaded = 0;\n",
              "\n",
              "      const channel = await google.colab.kernel.comms.open(id);\n",
              "      // Send a message to notify the kernel that we're ready.\n",
              "      channel.send({})\n",
              "\n",
              "      for await (const message of channel.messages) {\n",
              "        // Send a message to notify the kernel that we're ready.\n",
              "        channel.send({})\n",
              "        if (message.buffers) {\n",
              "          for (const buffer of message.buffers) {\n",
              "            buffers.push(buffer);\n",
              "            downloaded += buffer.byteLength;\n",
              "            progress.value = downloaded;\n",
              "          }\n",
              "        }\n",
              "      }\n",
              "      const blob = new Blob(buffers, {type: 'application/binary'});\n",
              "      const a = document.createElement('a');\n",
              "      a.href = window.URL.createObjectURL(blob);\n",
              "      a.download = filename;\n",
              "      div.appendChild(a);\n",
              "      a.click();\n",
              "      div.remove();\n",
              "    }\n",
              "  "
            ],
            "text/plain": [
              "<IPython.core.display.Javascript object>"
            ]
          },
          "metadata": {
            "tags": []
          }
        },
        {
          "output_type": "display_data",
          "data": {
            "application/javascript": [
              "download(\"download_3ea55b2b-4e8d-4c8c-9b97-1a12c482a443\", \"mask_rcnn_barako_0060.h5\", 255879648)"
            ],
            "text/plain": [
              "<IPython.core.display.Javascript object>"
            ]
          },
          "metadata": {
            "tags": []
          }
        }
      ]
    },
    {
      "cell_type": "markdown",
      "metadata": {
        "id": "laqF3Tihrqs3"
      },
      "source": [
        "#Run inference on test dataset\n",
        "\n",
        "move the following files to MaskRCNN\n",
        "\n",
        "\n",
        "*   modified_utils.py\n",
        "*   modified_model.py\n",
        "*   modified_visualize.py\n",
        "*   barako_v2.py\n",
        "*   barako_inference.py\n",
        "*   modified_model.py\n",
        "\n",
        "*due to compatibility issues with the tensorflow versions in Colab, the prediction images will not be present. A jupyter notebook (inspect_model) from the MaskRCNN github can be used to visualize the results. A webpage User Interface will also be uploaded in the future.\n",
        "\n",
        "\n"
      ]
    },
    {
      "cell_type": "code",
      "metadata": {
        "id": "Q-1l4XccsRdr"
      },
      "source": [
        "%cd ~/Mask_RCNN \n",
        "import os\n",
        "os.makedirs('predictions', exist_ok=True)\n",
        "!python barako_inference.py "
      ],
      "execution_count": null,
      "outputs": []
    }
  ]
}